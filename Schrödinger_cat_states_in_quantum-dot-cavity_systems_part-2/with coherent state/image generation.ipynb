{
 "cells": [
  {
   "cell_type": "code",
   "execution_count": null,
   "metadata": {},
   "outputs": [],
   "source": [
    "from qutip import*\n",
    "import numpy as np\n",
    "import matplotlib.pyplot as plt\n",
    "import matplotlib.cm as cm\n",
    "import os"
   ]
  },
  {
   "cell_type": "code",
   "execution_count": null,
   "metadata": {},
   "outputs": [],
   "source": [
    "result=qload('output CAD-1 wignerE1.2')"
   ]
  },
  {
   "cell_type": "code",
   "execution_count": null,
   "metadata": {},
   "outputs": [],
   "source": [
    "def wigner_plot_steadystate(rho, xvec, i, save_path):\n",
    "    rho_cavity = ptrace(rho, 0)\n",
    "    W = wigner(rho_cavity, xvec, xvec)\n",
    "    wlim = abs(W).max()\n",
    "    fig = plt.figure(figsize=(12, 6))\n",
    "    axes1 = fig.add_subplot(1, 2, 1)\n",
    "    plot1 = axes1.contourf(xvec, xvec, W, cmap=cm.hot)\n",
    "    plt.colorbar(plot1)\n",
    "    plt.title(f\"image {i}\")\n",
    "    axes1.set_xlabel(r\"Im $\\alpha$\")\n",
    "    axes1.set_ylabel(r\"Re $\\alpha$\")\n",
    "\n",
    "    # Save the figure\n",
    "    fig.savefig(os.path.join(save_path, f\"image_{i}.png\"))\n",
    "    plt.close(fig)\n"
   ]
  },
  {
   "cell_type": "raw",
   "metadata": {},
   "source": [
    "xvec = np.linspace(-5, 5, 100)\n",
    "values=np.array([58,301])\n",
    "save_path = \"A:\\images3\"\n",
    "for i in values:\n",
    "    wigner_plot_steadystate(result.states[i],xvec,i,save_path)"
   ]
  },
  {
   "cell_type": "code",
   "execution_count": null,
   "metadata": {},
   "outputs": [],
   "source": [
    "xvec = np.linspace(-5, 5, 100)\n",
    "save_path = \"A:\\part2\"\n",
    "\n",
    "\n",
    "for i in range(0, 430, 1):\n",
    "    wigner_plot_steadystate(result.states[i], xvec, i, save_path)\n",
    "    \n"
   ]
  },
  {
   "cell_type": "code",
   "execution_count": null,
   "metadata": {},
   "outputs": [],
   "source": []
  }
 ],
 "metadata": {
  "kernelspec": {
   "display_name": "Python 3 (ipykernel)",
   "language": "python",
   "name": "python3"
  },
  "language_info": {
   "codemirror_mode": {
    "name": "ipython",
    "version": 3
   },
   "file_extension": ".py",
   "mimetype": "text/x-python",
   "name": "python",
   "nbconvert_exporter": "python",
   "pygments_lexer": "ipython3",
   "version": "3.11.3"
  }
 },
 "nbformat": 4,
 "nbformat_minor": 4
}
