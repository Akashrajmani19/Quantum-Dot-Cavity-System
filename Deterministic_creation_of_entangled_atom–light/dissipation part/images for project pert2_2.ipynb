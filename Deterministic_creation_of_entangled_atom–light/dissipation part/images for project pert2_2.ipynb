{
 "cells": [
  {
   "cell_type": "code",
   "execution_count": 1,
   "metadata": {},
   "outputs": [
    {
     "ename": "ModuleNotFoundError",
     "evalue": "No module named 'qutip'",
     "output_type": "error",
     "traceback": [
      "\u001b[1;31m---------------------------------------------------------------------------\u001b[0m",
      "\u001b[1;31mModuleNotFoundError\u001b[0m                       Traceback (most recent call last)",
      "Cell \u001b[1;32mIn[1], line 1\u001b[0m\n\u001b[1;32m----> 1\u001b[0m \u001b[39mfrom\u001b[39;00m \u001b[39mqutip\u001b[39;00m \u001b[39mimport\u001b[39;00m\u001b[39m*\u001b[39m\n\u001b[0;32m      2\u001b[0m \u001b[39mimport\u001b[39;00m \u001b[39mnumpy\u001b[39;00m \u001b[39mas\u001b[39;00m \u001b[39mnp\u001b[39;00m\n\u001b[0;32m      3\u001b[0m \u001b[39mimport\u001b[39;00m \u001b[39mmatplotlib\u001b[39;00m\u001b[39m.\u001b[39;00m\u001b[39mpyplot\u001b[39;00m \u001b[39mas\u001b[39;00m \u001b[39mplt\u001b[39;00m\n",
      "\u001b[1;31mModuleNotFoundError\u001b[0m: No module named 'qutip'"
     ]
    }
   ],
   "source": [
    "from qutip import*\n",
    "import numpy as np\n",
    "import matplotlib.pyplot as plt\n",
    "from math import*\n",
    "import matplotlib.cm as cm\n"
   ]
  },
  {
   "cell_type": "code",
   "execution_count": null,
   "metadata": {},
   "outputs": [
    {
     "ename": "UnpicklingError",
     "evalue": "invalid load key, '3'.",
     "output_type": "error",
     "traceback": [
      "\u001b[1;31m---------------------------------------------------------------------------\u001b[0m",
      "\u001b[1;31mUnpicklingError\u001b[0m                           Traceback (most recent call last)",
      "Cell \u001b[1;32mIn[4], line 1\u001b[0m\n\u001b[1;32m----> 1\u001b[0m result\u001b[39m=\u001b[39mqload(\u001b[39m'\u001b[39;49m\u001b[39moutput fro project c_ops 2\u001b[39;49m\u001b[39m'\u001b[39;49m)\n",
      "File \u001b[1;32mc:\\Users\\aakas\\enviroments\\qutip\\env\\Lib\\site-packages\\qutip\\fileio.py:252\u001b[0m, in \u001b[0;36mqload\u001b[1;34m(name)\u001b[0m\n\u001b[0;32m    250\u001b[0m \u001b[39mwith\u001b[39;00m \u001b[39mopen\u001b[39m(path, \u001b[39m\"\u001b[39m\u001b[39mrb\u001b[39m\u001b[39m\"\u001b[39m) \u001b[39mas\u001b[39;00m fileObject:\n\u001b[0;32m    251\u001b[0m     \u001b[39mif\u001b[39;00m sys\u001b[39m.\u001b[39mversion_info \u001b[39m>\u001b[39m\u001b[39m=\u001b[39m (\u001b[39m3\u001b[39m, \u001b[39m0\u001b[39m):\n\u001b[1;32m--> 252\u001b[0m         out \u001b[39m=\u001b[39m pickle\u001b[39m.\u001b[39;49mload(fileObject, encoding\u001b[39m=\u001b[39;49m\u001b[39m'\u001b[39;49m\u001b[39mlatin1\u001b[39;49m\u001b[39m'\u001b[39;49m)\n\u001b[0;32m    253\u001b[0m     \u001b[39melse\u001b[39;00m:\n\u001b[0;32m    254\u001b[0m         out \u001b[39m=\u001b[39m pickle\u001b[39m.\u001b[39mload(fileObject)\n",
      "\u001b[1;31mUnpicklingError\u001b[0m: invalid load key, '3'."
     ]
    }
   ],
   "source": [
    "result=qload('output fro project c_ops 2')"
   ]
  },
  {
   "cell_type": "code",
   "execution_count": null,
   "metadata": {},
   "outputs": [],
   "source": [
    "def wigner_plot_steadystate(rho,xvec,i):\n",
    "    \n",
    "    rho_cavity=ptrace(rho,0)\n",
    "    W=wigner(rho_cavity,xvec,xvec)\n",
    "    wlim=abs(W).max()\n",
    "    fig=plt.figure(figsize=(12,6))\n",
    "    axes1=fig.add_subplot(1,2,1)\n",
    "    plot1=axes1.contourf(xvec,xvec,W,cmap=cm.hot)\n",
    "    plt.colorbar(plot1)\n",
    "    plt.title(f\"image {i}\")\n",
    "    axes1.set_xlabel(r\"Im $\\alpha$\")\n",
    "    axes1.set_ylabel(r\"Re $\\alpha$\")\n",
    "    \n",
    "    #axes2=fig.add_subplot(1,2,2)\n",
    "    #plot1=axes2.bar(np.arange(N),np.real(rho_cavity.diag()))\n",
    "    #axes2.set_xlabel('Fock number') \n",
    "    #axes2.set_ylabel(\"Occupation probability\")\n",
    "    \n",
    "xvec=np.linspace(-5,5,100)\n",
    "\n",
    "\n",
    "for i in range(19343,19344,1):\n",
    "    \n",
    "    wigner_plot_steadystate(result.states[i],xvec,i)\n"
   ]
  },
  {
   "cell_type": "code",
   "execution_count": null,
   "metadata": {},
   "outputs": [],
   "source": [
    "def wigner_plot_steadystate(rho,xvec,i):\n",
    "    \n",
    "    rho_cavity=ptrace(rho,0)\n",
    "    W=wigner(rho_cavity,xvec,xvec)\n",
    "    wlim=abs(W).max()\n",
    "    fig=plt.figure(figsize=(12,6),facecolor='none')\n",
    "    axes1=fig.add_subplot(121)\n",
    "    plot1=axes1.contourf(xvec,xvec,W,cmap=cm.hot)\n",
    "    plt.colorbar(plot1)\n",
    "    xvec=np.linspace(-2,2,100)\n",
    "    X,Y=np.meshgrid(xvec,xvec)\n",
    "    axes1=fig.add_subplot(122,projection='3d')\n",
    "    \n",
    "    dia=axes1.plot_surface(X,Y,W,rstride=1,cstride=1,antialiased=False,cmap='hot',alpha=0.40)\n",
    "    dia=axes1.plot_wireframe(X,Y,W,rstride=15,cstride=15,antialiased=True,cmap='hot',alpha=.25)\n",
    "    \n",
    "    axes1.view_init(15,270)\n",
    "    plt.title(f\"image {i}\")\n",
    "    axes1.set_xlabel(r\"Im $\\alpha$\")\n",
    "    axes1.set_ylabel(r\"Re $\\alpha$\")\n",
    "    axes1.axis('off')\n",
    "    \n",
    "    #axes2=fig.add_subplot(1,2,2)\n",
    "    #plot1=axes2.bar(np.arange(N),np.real(rho_cavity.diag()))\n",
    "    #axes2.set_xlabel('Fock number')\n",
    "    #axes2.set_ylabel(\"Occupation probability\")\n",
    "    \n",
    "xvec=np.linspace(-5,5,100)\n",
    "X,Y=np.meshgrid(xvec,xvec)\n",
    "\n",
    "for i in range(30097,30099,1):\n",
    "    \n",
    "    wigner_plot_steadystate(result.states[i],xvec,i)"
   ]
  },
  {
   "cell_type": "code",
   "execution_count": null,
   "metadata": {},
   "outputs": [],
   "source": [
    "def wigner_plot_steadystate(rho,xvec,i):\n",
    "    \n",
    "    rho_cavity=ptrace(rho,0)\n",
    "    W=wigner(rho_cavity,xvec,xvec)\n",
    "    wlim=abs(W).max()\n",
    "    fig=plt.figure(figsize=(12,6),facecolor='none')\n",
    "    axes1=fig.add_subplot(121)\n",
    "    plot1=axes1.contourf(xvec,xvec,W,cmap=cm.hot)\n",
    "    plt.colorbar(plot1)\n",
    "    xvec=np.linspace(-2,2,100)\n",
    "    X,Y=np.meshgrid(xvec,xvec)\n",
    "    axes1=fig.add_subplot(122,projection='3d')\n",
    "    \n",
    "    dia=axes1.plot_surface(X,Y,W,rstride=1,cstride=1,antialiased=False,cmap='hot',alpha=0.40)\n",
    "    dia=axes1.plot_wireframe(X,Y,W,rstride=15,cstride=15,antialiased=True,cmap='hot',alpha=.25)\n",
    "    \n",
    "    axes1.view_init(15,270)\n",
    "    plt.title(f\"image {i}\")\n",
    "    axes1.set_xlabel(r\"Im $\\alpha$\")\n",
    "    axes1.set_ylabel(r\"Re $\\alpha$\")\n",
    "    axes1.axis('off')\n",
    "    \n",
    "    #axes2=fig.add_subplot(1,2,2)\n",
    "    #plot1=axes2.bar(np.arange(N),np.real(rho_cavity.diag()))\n",
    "    #axes2.set_xlabel('Fock number')\n",
    "    #axes2.set_ylabel(\"Occupation probability\")\n",
    "    \n",
    "xvec=np.linspace(-5,5,100)\n",
    "X,Y=np.meshgrid(xvec,xvec)\n",
    "\n",
    "for i in range(31175,31189,1):\n",
    "    \n",
    "    wigner_plot_steadystate(result.states[i],xvec,i)"
   ]
  },
  {
   "cell_type": "code",
   "execution_count": null,
   "metadata": {},
   "outputs": [],
   "source": []
  }
 ],
 "metadata": {
  "kernelspec": {
   "display_name": "Python 3",
   "language": "python",
   "name": "python3"
  },
  "language_info": {
   "codemirror_mode": {
    "name": "ipython",
    "version": 3
   },
   "file_extension": ".py",
   "mimetype": "text/x-python",
   "name": "python",
   "nbconvert_exporter": "python",
   "pygments_lexer": "ipython3",
   "version": "3.10.9"
  },
  "orig_nbformat": 4
 },
 "nbformat": 4,
 "nbformat_minor": 2
}
