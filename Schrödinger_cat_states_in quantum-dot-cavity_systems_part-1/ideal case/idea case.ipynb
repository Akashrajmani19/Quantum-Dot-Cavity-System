{
 "cells": [
  {
   "cell_type": "code",
   "execution_count": null,
   "id": "8775d656-9499-459e-a0a0-9764acb8c08f",
   "metadata": {},
   "outputs": [],
   "source": [
    "from qutip import*\n",
    "import numpy as np\n",
    "import matplotlib.pyplot as plt\n",
    "from math import*\n",
    "#from numpy.polynomial import polynomial as P\n",
    "#from mpl_toolkits.mplot3d.axes3d import mpl\n",
    "import matplotlib.cm as cm\n",
    "#from matplotlib.colors import ListedColormap"
   ]
  },
  {
   "cell_type": "code",
   "execution_count": null,
   "id": "fc27d230-6f4d-4de8-846c-5a6b69233888",
   "metadata": {},
   "outputs": [],
   "source": [
    "N=20\n",
    "ec=1.6e-19\n",
    "h=(6.62e-34)/2*np.pi\n",
    "w_c=2*np.pi*1.5*ec/(6.62e-34)\n",
    "w_a=2*np.pi*1.5*ec/(6.62e-34)\n",
    "w_p=2*np.pi*1.5*ec/(6.62e-34)\n",
    "g=(0.1*2*np.pi*(ec*1e-3)/(6.62e-34))\n",
    "kappa=0.0085e-12/h\n",
    "gamma=0.001e-12/h\n",
    "alpha=0.5*np.pi\n",
    "t_drive=np.array([0.1e-12,1.42e-11,2.41e-11,3.46e-11,4e-11,4.65e-11,5.37e-11,6.07e-11,6.72e-11,7.21e-11])\n",
    "#print(t_drive)\n",
    "sig=1e-13/2.355 \n",
    "#print(sig)\n",
    "tlist=[]\n",
    "\n",
    "t=0.0\n",
    "\n",
    "while t<=80:\n",
    "    #o=round(t,)\n",
    "    o=round(t,2)\n",
    "    o=o*(1e-12)\n",
    "    tlist.append(float(\"%.14f\"%o))\n",
    "    t=t+0.1\n",
    "tlist=np.array(tlist)\n",
    "\n"
   ]
  },
  {
   "cell_type": "code",
   "execution_count": null,
   "id": "591c7f91-90dd-451a-9cce-d8073c119153",
   "metadata": {},
   "outputs": [],
   "source": [
    "sm=tensor(qeye(N),destroy(2))\n",
    "a=tensor(destroy(N),qeye(2))\n",
    "phi_c=fock(N,0)#state related to cavity field\n",
    "phi_a=fock(2,0)#state related to dot\n",
    "phi1=tensor(phi_c,phi_a)\n",
    "\n",
    "No=1/(np.sqrt(2*(1+np.exp(-((np.pi)**2)/4))))\n",
    "phi_expected=No*(coherent(N,alpha)+coherent(N,-alpha))\n",
    "rho1=ket2dm(phi_expected)\n"
   ]
  },
  {
   "cell_type": "code",
   "execution_count": null,
   "id": "e383c2a2-2f85-40ba-9740-83ef61fa443f",
   "metadata": {},
   "outputs": [],
   "source": [
    "n_the_exc=0\n",
    "c_ops=[]\n",
    "\n",
    "#cavity relaxation\n",
    "rate=kappa*(1+n_the_exc)\n",
    "if rate>0:\n",
    "    c_ops.append(np.sqrt(rate)*a)\n",
    "\n",
    "#cavity excitation if temperature is >0\n",
    "rate=kappa*n_the_exc\n",
    "if rate>0:\n",
    "    c_ops.append(np.sqrt(rate)*a.dag())\n",
    "    \n",
    "#qubuit relaxation\n",
    "rate=gamma\n",
    "if rate>0:\n",
    "    c_ops.append(np.sqrt(rate)*sm)"
   ]
  },
  {
   "cell_type": "code",
   "execution_count": null,
   "id": "587465fc-9fbf-46d1-b306-3b732af05ee4",
   "metadata": {},
   "outputs": [],
   "source": [
    "def d_drive(tlist,args):\n",
    "  \n",
    "    f=0  \n",
    "    s=0\n",
    "    p=0\n",
    "   \n",
    "    if tlist<=((t_drive[0]+t_drive[1])/2):\n",
    "        f=-(((np.pi*np.exp(-(tlist-t_drive[0])**2/(2*sig**2)))/(np.sqrt(2*np.pi)*sig)))*np.exp(-w_p*1j*(tlist-t_drive[0]))\n",
    "        \n",
    "        \n",
    "    if tlist<=((t_drive[1]+t_drive[2])/2) and tlist>((t_drive[0]+t_drive[1])/2):\n",
    "        f=-(((np.pi*np.exp(-(tlist-t_drive[1])**2/(2*sig**2)))/(np.sqrt(2*np.pi)*sig)))*np.exp(-w_p*1j*(tlist-t_drive[1]))\n",
    "        \n",
    "        \n",
    "        \n",
    "    if tlist<=((t_drive[2]+t_drive[3])/2) and tlist>((t_drive[1]+t_drive[2])/2):\n",
    "        f=-(((np.pi*np.exp(-(tlist-t_drive[2])**2/(2*sig**2)))/(np.sqrt(2*np.pi)*sig)))*np.exp(-w_p*1j*(tlist-t_drive[2]))\n",
    "        \n",
    "        \n",
    "    if tlist<=((t_drive[3]+t_drive[4])/2) and tlist>((t_drive[2]+t_drive[3])/2):\n",
    "        f=(((np.pi*np.exp(-(tlist-t_drive[3])**2/(2*sig**2)))/(np.sqrt(2*np.pi)*sig)))*np.exp(-w_p*1j*(tlist-t_drive[3]))\n",
    "        \n",
    "        \n",
    "    if tlist<=((t_drive[4]+t_drive[5])/2) and tlist>((t_drive[3]+t_drive[4])/2):\n",
    "        f=-(((np.pi*np.exp(-(tlist-t_drive[4])**2/(2*sig**2)))/(np.sqrt(2*np.pi)*sig)))*np.exp(-w_p*1j*(tlist-t_drive[4]))\n",
    "        \n",
    "    if tlist<=((t_drive[5]+t_drive[6])/2) and tlist>((t_drive[4]+t_drive[5])/2):\n",
    "        f=-(((np.pi*np.exp(-(tlist-t_drive[5])**2/(2*sig**2)))/(np.sqrt(2*np.pi)*sig)))*np.exp(-w_p*1j*(tlist-t_drive[5]))\n",
    "        \n",
    "        \n",
    "    if tlist<=((t_drive[6]+t_drive[7])/2) and tlist>((t_drive[5]+t_drive[6])/2):\n",
    "        f=-(((np.pi*np.exp(-(tlist-t_drive[6])**2/(2*sig**2)))/(np.sqrt(2*np.pi)*sig)))*np.exp(-w_p*1j*(tlist-t_drive[6]))\n",
    "        \n",
    "        \n",
    "    if tlist<=((t_drive[7]+t_drive[8])/2) and tlist>((t_drive[6]+t_drive[7])/2):\n",
    "        f=-(((np.pi*np.exp(-(tlist-t_drive[7])**2/(2*sig**2)))/(np.sqrt(2*np.pi)*sig)))*np.exp(-w_p*1j*(tlist-t_drive[7]))\n",
    "\n",
    "        \n",
    "    if tlist<=((t_drive[8]+t_drive[9])/2) and tlist>((t_drive[7]+t_drive[8])/2):\n",
    "        f=-(((np.pi*np.exp(-(tlist-t_drive[8])**2/(2*sig**2)))/(np.sqrt(2*np.pi)*sig)))*np.exp(-w_p*1j*(tlist-t_drive[8]))\n",
    "      \n",
    "        \n",
    "    if tlist>=((t_drive[8]+t_drive[9])/2):\n",
    "        f=-(((np.pi*np.exp(-(tlist-t_drive[9])**2/(2*sig**2)))/(np.sqrt(2*np.pi)*sig)))*np.exp(-w_p*1j*(tlist-t_drive[9]))\n",
    "  \n",
    "        \n",
    "    #print(s)\n",
    "    return f"
   ]
  },
  {
   "cell_type": "code",
   "execution_count": null,
   "id": "878bde10-c212-4990-bbe8-d361037f3195",
   "metadata": {},
   "outputs": [],
   "source": [
    "def d1_drive(tlist,args):\n",
    "\n",
    "    f=0  \n",
    "    s=0\n",
    "    p=0\n",
    "\n",
    "    if tlist<=((t_drive[0]+t_drive[1])/2):\n",
    "        f=-(((np.pi*np.exp(-(tlist-t_drive[0])**2/(2*sig**2)))/(np.sqrt(2*np.pi)*sig)))*np.exp(w_p*1j*(tlist-t_drive[0]))\n",
    "  \n",
    "        \n",
    "    if tlist<=((t_drive[1]+t_drive[2])/2) and tlist>((t_drive[0]+t_drive[1])/2):\n",
    "        f=-(((np.pi*np.exp(-(tlist-t_drive[1])**2/(2*sig**2)))/(np.sqrt(2*np.pi)*sig)))*np.exp(w_p*1j*(tlist-t_drive[1]))\n",
    "     \n",
    "        \n",
    "        \n",
    "    if tlist<=((t_drive[2]+t_drive[3])/2) and tlist>((t_drive[1]+t_drive[2])/2):\n",
    "        f=-(((np.pi*np.exp(-(tlist-t_drive[2])**2/(2*sig**2)))/(np.sqrt(2*np.pi)*sig)))*np.exp(w_p*1j*(tlist-t_drive[2]))\n",
    "      \n",
    "         \n",
    "    if tlist<=((t_drive[3]+t_drive[4])/2) and tlist>((t_drive[2]+t_drive[3])/2):\n",
    "        f=(((np.pi*np.exp(-(tlist-t_drive[3])**2/(2*sig**2)))/(np.sqrt(2*np.pi)*sig)))*np.exp(w_p*1j*(tlist-t_drive[3]))\n",
    "   \n",
    "          \n",
    "        \n",
    "    if tlist<=((t_drive[4]+t_drive[5])/2) and tlist>((t_drive[3]+t_drive[4])/2):\n",
    "        f=-(((np.pi*np.exp(-(tlist-t_drive[4])**2/(2*sig**2)))/(np.sqrt(2*np.pi)*sig)))*np.exp(w_p*1j*(tlist-t_drive[4]))\n",
    "        \n",
    "        \n",
    "    if tlist<=((t_drive[5]+t_drive[6])/2) and tlist>((t_drive[4]+t_drive[5])/2):\n",
    "        f=-(((np.pi*np.exp(-(tlist-t_drive[5])**2/(2*sig**2)))/(np.sqrt(2*np.pi)*sig)))*np.exp(w_p*1j*(tlist-t_drive[5]))\n",
    "     \n",
    "        \n",
    "    if tlist<=((t_drive[6]+t_drive[7])/2) and tlist>((t_drive[5]+t_drive[6])/2):\n",
    "        f=-(((np.pi*np.exp(-(tlist-t_drive[6])**2/(2*sig**2)))/(np.sqrt(2*np.pi)*sig)))*np.exp(w_p*1j*(tlist-t_drive[6]))\n",
    "      \n",
    "        \n",
    "    if tlist<=((t_drive[7]+t_drive[8])/2) and tlist>((t_drive[6]+t_drive[7])/2):\n",
    "        f=-(((np.pi*np.exp(-(tlist-t_drive[7])**2/(2*sig**2)))/(np.sqrt(2*np.pi)*sig)))*np.exp(w_p*1j*(tlist-t_drive[7]))\n",
    "           \n",
    "        \n",
    "    if tlist<=((t_drive[8]+t_drive[9])/2) and tlist>((t_drive[7]+t_drive[8])/2):\n",
    "        f=-(((np.pi*np.exp(-(tlist-t_drive[8])**2/(2*sig**2)))/(np.sqrt(2*np.pi)*sig)))*np.exp(w_p*1j*(tlist-t_drive[8]))\n",
    "        \n",
    "        \n",
    "    if tlist>=((t_drive[8]+t_drive[9])/2):\n",
    "        f=-(((np.pi*np.exp(-(tlist-t_drive[9])**2/(2*sig**2)))/(np.sqrt(2*np.pi)*sig)))*np.exp(w_p*1j*(tlist-t_drive[9]))\n",
    "           \n",
    "        \n",
    "    #print(s)\n",
    "    return f"
   ]
  },
  {
   "cell_type": "code",
   "execution_count": null,
   "id": "03983670-06cd-4ffe-972c-e6e2d6f76848",
   "metadata": {},
   "outputs": [],
   "source": [
    "H_o=w_c*a.dag()*a + w_a*sm.dag()*sm + g*(a.dag()*sm+a*sm.dag())\n",
    "\n",
    "H1=-0.5*(sm.dag())\n",
    "H2=-0.5*(sm)\n",
    "H=[H_o,[H1,d_drive],[H2,d1_drive]]"
   ]
  },
  {
   "cell_type": "code",
   "execution_count": null,
   "id": "4772c359-b636-4445-93dd-fa20e564b293",
   "metadata": {},
   "outputs": [],
   "source": [
    "opt=Options(nsteps=5000000)\n",
    "output=mesolve(H,phi1,tlist,c_ops,[a.dag()*a,sm.dag()*sm],options=opt,progress_bar=True)"
   ]
  },
  {
   "cell_type": "raw",
   "id": "4368048b-2bf7-4ab0-b3dc-7d38615e514b",
   "metadata": {},
   "source": [
    "n_c=output.expect[0]\n",
    "n_a=output.expect[1]\n",
    "fig=plt.figure()\n",
    "axes=fig.add_subplot(111)\n",
    "line_c=axes.plot(tlist,n_c,label='cavity ')\n",
    "line_a=axes.plot(tlist,n_a,label='dot excited state')\n",
    "plt.legend()\n",
    "plt.show()"
   ]
  },
  {
   "cell_type": "code",
   "execution_count": null,
   "id": "f5123b1b-fb6d-44b2-822b-2f0fa2c312a3",
   "metadata": {},
   "outputs": [],
   "source": [
    "qsave(output,'output atom-cavity E')"
   ]
  },
  {
   "cell_type": "code",
   "execution_count": null,
   "id": "28a1fa8f-dfa5-429b-9bb5-0bded314fbe6",
   "metadata": {},
   "outputs": [],
   "source": [
    "result=qload('output atom-cavity E')"
   ]
  },
  {
   "cell_type": "code",
   "execution_count": null,
   "id": "b5bab1dc-d5af-4e0a-9ac5-3cfb320b4a4b",
   "metadata": {},
   "outputs": [],
   "source": [
    "n_c=result.expect[0]\n",
    "n_a=result.expect[1]\n",
    "fig=plt.figure()\n",
    "axes=fig.add_subplot(211)\n",
    "line_c=axes.plot(tlist,n_c,label='cavity ')\n",
    "axes=fig.add_subplot(212)\n",
    "line_a=axes.plot(tlist,n_a,label='dot excited state')\n",
    "plt.legend()\n",
    "plt.show()"
   ]
  },
  {
   "cell_type": "code",
   "execution_count": null,
   "id": "b7269f64-70b2-46fc-9194-f98a698c8ff0",
   "metadata": {},
   "outputs": [],
   "source": [
    "\n",
    "result1=mesolve(H,phi1,tlist,c_ops,[],options=opt,progress_bar=True)"
   ]
  },
  {
   "cell_type": "code",
   "execution_count": null,
   "id": "e6fd37df-3cea-4e6a-bcc7-5250d22fce75",
   "metadata": {},
   "outputs": [],
   "source": [
    "qsave(output1,'output wigner dissipation')"
   ]
  },
  {
   "cell_type": "code",
   "execution_count": null,
   "id": "a1be6605-803e-4375-915d-4227cb12e286",
   "metadata": {},
   "outputs": [],
   "source": [
    "result1=qload('output wigner dissipation')"
   ]
  },
  {
   "cell_type": "raw",
   "id": "3a1bbe43-2dad-4e6d-8b82-e64fb5ed4d87",
   "metadata": {},
   "source": [
    "fida=result1.states\n",
    "#print(fida)\n",
    "fida1=[]\n",
    "for i in range(0,len(tlist)):\n",
    "    g=ptrace(fida[i],0)\n",
    "\n",
    "    fidelity1=fidelity(rho1,g)\n",
    "    fida1.append(fidelity1)\n",
    "print(fida1[689])\n",
    "k=(result1.states[732],0)\n",
    "trr=[]\n",
    "for i in range(0,len(fida1)):\n",
    "    if fida1[i]>=0.79:\n",
    "        trr.append(i)\n",
    "        \n",
    "print(trr)\n",
    "        "
   ]
  },
  {
   "cell_type": "raw",
   "id": "8f8a6313-6fd4-478a-b2e6-c3641eac0683",
   "metadata": {},
   "source": [
    "o=[]\n",
    "for i in range(0,len(tlist)):\n",
    "    g=d_drive(tlist[i],0)\n",
    "    o.append(g.real)\n",
    "    #print(g)\n",
    "#print(o)\n",
    "#print(len(tlist)\n",
    "fig=plt.figure()\n",
    "axes=fig.add_subplot(111)\n",
    "line_c=axes.plot(tlist,o)\n",
    "\n",
    "plt.show()   "
   ]
  },
  {
   "cell_type": "raw",
   "id": "af7de88d-cedc-4916-aea2-35ac590a2765",
   "metadata": {},
   "source": [
    "fig=plt.figure()\n",
    "n_c=result.expect[0]\n",
    "n_a=result.expect[1]\n",
    "axes=fig.add_subplot(412)\n",
    "line_c=axes.plot(tlist,n_c,label='cavity ')\n",
    "axes=fig.add_subplot(413)\n",
    "line_a=axes.plot(tlist,n_a,label='dot excited state')\n",
    "axes=fig.add_subplot(411)\n",
    "line_c=axes.plot(tlist,fida1,'')\n",
    "axes=fig.add_subplot(414)\n",
    "line_c=axes.plot(tlist,o)\n",
    "plt.show()\n",
    "\n",
    "#print(len(er))        \n",
    "#print(fida1)        \n"
   ]
  },
  {
   "cell_type": "raw",
   "id": "71c19962-e5b0-4763-ac9b-caa9da4e0ce1",
   "metadata": {},
   "source": [
    "import scipy as sc\n",
    "from scipy.optimize import leastsq\n",
    "tou1=3.46e-11\n",
    "def funcquad(t,a,f,tau):\n",
    "    return a*np.exp(t/tau)*np.cos(2*np.pi*f*t)\n",
    "def residual(p,y,t):\n",
    "    a,f,tau=p\n",
    "    return y-funcquad(t,a,f,tau)\n",
    "P0=1,w_c,tou1\n",
    "P,_=leastsq(residual,P0,args=(fida1,tlist))\n",
    "print(P)\n",
    "Y=funcquad(tlist,*P)\n",
    "\n",
    "ggM=[]\n",
    "U=0   \n",
    "while U<10:\n",
    "    ggM.append(fida1[U])\n",
    "    U=U+1\n",
    "\n",
    "for i in range(10,len(tlist)):\n",
    "    gg=(fida1[i-5]+fida1[i-4]+fida1[i-3]+fida1[i-2]+fida1[i-1]+fida1[i])/6\n",
    "    ggM.append(gg)\n",
    "print(len(tlist),len(ggM)) \n",
    "#print(ggM)\n",
    "#fida1[i-10]+fida1[i-9]+fida1[i-8]+fida1[i-7]+fida1[i-6]+fida1[i-5]+fida1[i-4]+fida1[i-3]+"
   ]
  },
  {
   "cell_type": "raw",
   "id": "b123218e-b8f2-42f0-bfaa-6e6a870e0031",
   "metadata": {},
   "source": [
    "fig=plt.figure()\n",
    "n_c=result.expect[0]\n",
    "n_a=result.expect[1]\n",
    "axes=fig.add_subplot(412)\n",
    "line_c=axes.plot(tlist,n_c,label='cavity ')\n",
    "axes=fig.add_subplot(413)\n",
    "line_a=axes.plot(tlist,n_a,label='dot excited state')\n",
    "axes=fig.add_subplot(411)\n",
    "line_c=axes.plot(tlist,ggM,'')\n",
    "axes=fig.add_subplot(414)\n",
    "line_c=axes.plot(tlist,o)\n",
    "plt.show()"
   ]
  },
  {
   "cell_type": "raw",
   "id": "232214ae-15f2-4dc8-8d6d-8ed782a088da",
   "metadata": {},
   "source": [
    "def wigner_plot_steadystate(rho,xvec):\n",
    "    rho_cavity=ptrace(rho,0)\n",
    "    W=wigner(rho_cavity,xvec,xvec)\n",
    "    wlim=abs(W).max()\n",
    "    fig=plt.figure(figsize=(12,6))\n",
    "    axes1=fig.add_subplot(1,2,1)\n",
    "    plot1=axes1.contourf(xvec,xvec,W,cmap=cm.hot)\n",
    "    plt.colorbar(plot1)\n",
    "    axes1.set_xlabel(r\"Im $\\alpha$\")\n",
    "    axes1.set_ylabel(r\"Re $\\alpha$\")\n",
    "    \n",
    "    #axes2=fig.add_subplot(1,2,2)\n",
    "    #plot1=axes2.bar(np.arange(N),np.real(rho_cavity.diag()))\n",
    "    #axes2.set_xlabel('Fock number')\n",
    "    #axes2.set_ylabel(\"Occupation probability\")\n",
    "    \n",
    "xvec=np.linspace(-5,5,100)\n",
    "wigner_plot_steadystate(result1.states[211],xvec)\n"
   ]
  },
  {
   "cell_type": "code",
   "execution_count": null,
   "id": "3c3f6b33-294c-483c-9cc6-a5ed8eb1a095",
   "metadata": {},
   "outputs": [],
   "source": []
  },
  {
   "cell_type": "code",
   "execution_count": null,
   "id": "d2910225-3ade-4b7c-8b33-aa223c26c272",
   "metadata": {},
   "outputs": [],
   "source": []
  }
 ],
 "metadata": {
  "kernelspec": {
   "display_name": "Python 3 (ipykernel)",
   "language": "python",
   "name": "python3"
  },
  "language_info": {
   "codemirror_mode": {
    "name": "ipython",
    "version": 3
   },
   "file_extension": ".py",
   "mimetype": "text/x-python",
   "name": "python",
   "nbconvert_exporter": "python",
   "pygments_lexer": "ipython3",
   "version": "3.9.16"
  }
 },
 "nbformat": 4,
 "nbformat_minor": 5
}
